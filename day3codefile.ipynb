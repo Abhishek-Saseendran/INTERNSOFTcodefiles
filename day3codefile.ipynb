{
  "nbformat": 4,
  "nbformat_minor": 0,
  "metadata": {
    "colab": {
      "name": "session12.ipynb",
      "provenance": [],
      "authorship_tag": "ABX9TyNojc43gT8kzRZ9YUOR8fDF",
      "include_colab_link": true
    },
    "kernelspec": {
      "name": "python3",
      "display_name": "Python 3"
    }
  },
  "cells": [
    {
      "cell_type": "markdown",
      "metadata": {
        "id": "view-in-github",
        "colab_type": "text"
      },
      "source": [
        "<a href=\"https://colab.research.google.com/github/Abhishek-Saseendran/INTERNSOFTcodefiles/blob/main/day3codefile.ipynb\" target=\"_parent\"><img src=\"https://colab.research.google.com/assets/colab-badge.svg\" alt=\"Open In Colab\"/></a>"
      ]
    },
    {
      "cell_type": "markdown",
      "metadata": {
        "id": "_4eXIzSg-6WS"
      },
      "source": [
        "***Tuples***"
      ]
    },
    {
      "cell_type": "code",
      "metadata": {
        "id": "0i3ELalL-yZC"
      },
      "source": [
        "t = (123, 234, 345)"
      ],
      "execution_count": 1,
      "outputs": []
    },
    {
      "cell_type": "code",
      "metadata": {
        "colab": {
          "base_uri": "https://localhost:8080/"
        },
        "id": "rqsvi4Ku_BbP",
        "outputId": "3720a680-ec24-4612-9580-37b237535ee0"
      },
      "source": [
        "len(t)"
      ],
      "execution_count": 2,
      "outputs": [
        {
          "output_type": "execute_result",
          "data": {
            "text/plain": [
              "3"
            ]
          },
          "metadata": {
            "tags": []
          },
          "execution_count": 2
        }
      ]
    },
    {
      "cell_type": "code",
      "metadata": {
        "id": "IBSRQFb__GwL"
      },
      "source": [
        "t = (123, 'abc')"
      ],
      "execution_count": 3,
      "outputs": []
    },
    {
      "cell_type": "code",
      "metadata": {
        "colab": {
          "base_uri": "https://localhost:8080/"
        },
        "id": "3tSnZNn8_LBS",
        "outputId": "291abe3d-85f8-43ee-c29b-4f3008d255be"
      },
      "source": [
        "t"
      ],
      "execution_count": 4,
      "outputs": [
        {
          "output_type": "execute_result",
          "data": {
            "text/plain": [
              "(123, 'abc')"
            ]
          },
          "metadata": {
            "tags": []
          },
          "execution_count": 4
        }
      ]
    },
    {
      "cell_type": "code",
      "metadata": {
        "colab": {
          "base_uri": "https://localhost:8080/"
        },
        "id": "_p7juKkj_ML2",
        "outputId": "431aaa5e-db89-4cc1-e07e-3e68ffb4654c"
      },
      "source": [
        "t[0]"
      ],
      "execution_count": 5,
      "outputs": [
        {
          "output_type": "execute_result",
          "data": {
            "text/plain": [
              "123"
            ]
          },
          "metadata": {
            "tags": []
          },
          "execution_count": 5
        }
      ]
    },
    {
      "cell_type": "code",
      "metadata": {
        "colab": {
          "base_uri": "https://localhost:8080/"
        },
        "id": "FsRzp84k_Rao",
        "outputId": "1d58e91b-75f0-4d95-8b27-c95ec47603a9"
      },
      "source": [
        "t[::-1]"
      ],
      "execution_count": 6,
      "outputs": [
        {
          "output_type": "execute_result",
          "data": {
            "text/plain": [
              "('abc', 123)"
            ]
          },
          "metadata": {
            "tags": []
          },
          "execution_count": 6
        }
      ]
    },
    {
      "cell_type": "code",
      "metadata": {
        "colab": {
          "base_uri": "https://localhost:8080/"
        },
        "id": "K7AQdwIU_S2u",
        "outputId": "d89a4af6-c8cb-4006-997e-bcdfb1e22137"
      },
      "source": [
        "t[:-1]"
      ],
      "execution_count": 7,
      "outputs": [
        {
          "output_type": "execute_result",
          "data": {
            "text/plain": [
              "(123,)"
            ]
          },
          "metadata": {
            "tags": []
          },
          "execution_count": 7
        }
      ]
    },
    {
      "cell_type": "code",
      "metadata": {
        "colab": {
          "base_uri": "https://localhost:8080/"
        },
        "id": "IcOs188l_daT",
        "outputId": "c6b14b79-9cfb-4a5f-860a-91dc402d72a9"
      },
      "source": [
        "t.index('abc')"
      ],
      "execution_count": 8,
      "outputs": [
        {
          "output_type": "execute_result",
          "data": {
            "text/plain": [
              "1"
            ]
          },
          "metadata": {
            "tags": []
          },
          "execution_count": 8
        }
      ]
    },
    {
      "cell_type": "code",
      "metadata": {
        "colab": {
          "base_uri": "https://localhost:8080/"
        },
        "id": "Jm5b2JTU_j9m",
        "outputId": "a2507552-cf9d-410e-9203-dab2b6583949"
      },
      "source": [
        "t.count('abc')"
      ],
      "execution_count": 9,
      "outputs": [
        {
          "output_type": "execute_result",
          "data": {
            "text/plain": [
              "1"
            ]
          },
          "metadata": {
            "tags": []
          },
          "execution_count": 9
        }
      ]
    },
    {
      "cell_type": "code",
      "metadata": {
        "colab": {
          "base_uri": "https://localhost:8080/"
        },
        "id": "ZiN3BM81_qrU",
        "outputId": "8e946e07-18b2-4994-a9d8-566c905ad02c"
      },
      "source": [
        "t.count('hey')"
      ],
      "execution_count": 10,
      "outputs": [
        {
          "output_type": "execute_result",
          "data": {
            "text/plain": [
              "0"
            ]
          },
          "metadata": {
            "tags": []
          },
          "execution_count": 10
        }
      ]
    },
    {
      "cell_type": "code",
      "metadata": {
        "colab": {
          "base_uri": "https://localhost:8080/",
          "height": 162
        },
        "id": "uXAVrO4H_sGD",
        "outputId": "1dbf25d8-b4d7-4552-bf38-f5921fd68511"
      },
      "source": [
        "t[0] = 'change'"
      ],
      "execution_count": 11,
      "outputs": [
        {
          "output_type": "error",
          "ename": "TypeError",
          "evalue": "ignored",
          "traceback": [
            "\u001b[0;31m---------------------------------------------------------------------------\u001b[0m",
            "\u001b[0;31mTypeError\u001b[0m                                 Traceback (most recent call last)",
            "\u001b[0;32m<ipython-input-11-9468ef3b159f>\u001b[0m in \u001b[0;36m<module>\u001b[0;34m()\u001b[0m\n\u001b[0;32m----> 1\u001b[0;31m \u001b[0mt\u001b[0m\u001b[0;34m[\u001b[0m\u001b[0;36m0\u001b[0m\u001b[0;34m]\u001b[0m \u001b[0;34m=\u001b[0m \u001b[0;34m'change'\u001b[0m\u001b[0;34m\u001b[0m\u001b[0;34m\u001b[0m\u001b[0m\n\u001b[0m",
            "\u001b[0;31mTypeError\u001b[0m: 'tuple' object does not support item assignment"
          ]
        }
      ]
    },
    {
      "cell_type": "code",
      "metadata": {
        "colab": {
          "base_uri": "https://localhost:8080/",
          "height": 162
        },
        "id": "LmGCB9O__u41",
        "outputId": "6582c389-1ff1-44c2-f3ed-b8599ace30af"
      },
      "source": [
        "t.append('change')"
      ],
      "execution_count": 12,
      "outputs": [
        {
          "output_type": "error",
          "ename": "AttributeError",
          "evalue": "ignored",
          "traceback": [
            "\u001b[0;31m---------------------------------------------------------------------------\u001b[0m",
            "\u001b[0;31mAttributeError\u001b[0m                            Traceback (most recent call last)",
            "\u001b[0;32m<ipython-input-12-ed2958d3aa82>\u001b[0m in \u001b[0;36m<module>\u001b[0;34m()\u001b[0m\n\u001b[0;32m----> 1\u001b[0;31m \u001b[0mt\u001b[0m\u001b[0;34m.\u001b[0m\u001b[0mappend\u001b[0m\u001b[0;34m(\u001b[0m\u001b[0;34m'change'\u001b[0m\u001b[0;34m)\u001b[0m\u001b[0;34m\u001b[0m\u001b[0;34m\u001b[0m\u001b[0m\n\u001b[0m",
            "\u001b[0;31mAttributeError\u001b[0m: 'tuple' object has no attribute 'append'"
          ]
        }
      ]
    },
    {
      "cell_type": "markdown",
      "metadata": {
        "id": "xwlXTbR3_8fh"
      },
      "source": [
        "***Sets***"
      ]
    },
    {
      "cell_type": "code",
      "metadata": {
        "colab": {
          "base_uri": "https://localhost:8080/"
        },
        "id": "KPPL1ztC_xP_",
        "outputId": "5316f5c7-cd4f-4713-ab64-81998b180abb"
      },
      "source": [
        "x = set()\r\n",
        "x"
      ],
      "execution_count": 13,
      "outputs": [
        {
          "output_type": "execute_result",
          "data": {
            "text/plain": [
              "set()"
            ]
          },
          "metadata": {
            "tags": []
          },
          "execution_count": 13
        }
      ]
    },
    {
      "cell_type": "code",
      "metadata": {
        "colab": {
          "base_uri": "https://localhost:8080/"
        },
        "id": "eeBuZA5nAHeI",
        "outputId": "9b6f94df-6aaa-47d3-c8b2-ead30076ce51"
      },
      "source": [
        "x.add(1)\r\n",
        "x"
      ],
      "execution_count": 15,
      "outputs": [
        {
          "output_type": "execute_result",
          "data": {
            "text/plain": [
              "{1}"
            ]
          },
          "metadata": {
            "tags": []
          },
          "execution_count": 15
        }
      ]
    },
    {
      "cell_type": "code",
      "metadata": {
        "colab": {
          "base_uri": "https://localhost:8080/"
        },
        "id": "d_WQh7DqAPGT",
        "outputId": "de1c3d1b-9cfd-4c8b-83bb-29dbe5de2a4d"
      },
      "source": [
        "x.add(2)\r\n",
        "x.add(3)\r\n",
        "x"
      ],
      "execution_count": 16,
      "outputs": [
        {
          "output_type": "execute_result",
          "data": {
            "text/plain": [
              "{1, 2, 3}"
            ]
          },
          "metadata": {
            "tags": []
          },
          "execution_count": 16
        }
      ]
    },
    {
      "cell_type": "code",
      "metadata": {
        "colab": {
          "base_uri": "https://localhost:8080/"
        },
        "id": "TZjbst2SAZuQ",
        "outputId": "e55f4244-3c71-4c25-c184-493cd73d0aed"
      },
      "source": [
        "x.add(1)\r\n",
        "x"
      ],
      "execution_count": 17,
      "outputs": [
        {
          "output_type": "execute_result",
          "data": {
            "text/plain": [
              "{1, 2, 3}"
            ]
          },
          "metadata": {
            "tags": []
          },
          "execution_count": 17
        }
      ]
    },
    {
      "cell_type": "code",
      "metadata": {
        "colab": {
          "base_uri": "https://localhost:8080/"
        },
        "id": "--1QilAzAbXd",
        "outputId": "d5ec43f7-45a5-40ed-d7ff-90c9e37a7e63"
      },
      "source": [
        "l = [1,2,3,1,2,3,1,2,3,4,5,6,1,2,3]\r\n",
        "set(l)"
      ],
      "execution_count": 18,
      "outputs": [
        {
          "output_type": "execute_result",
          "data": {
            "text/plain": [
              "{1, 2, 3, 4, 5, 6}"
            ]
          },
          "metadata": {
            "tags": []
          },
          "execution_count": 18
        }
      ]
    },
    {
      "cell_type": "code",
      "metadata": {
        "colab": {
          "base_uri": "https://localhost:8080/"
        },
        "id": "5DvmpeUKA_-v",
        "outputId": "b21c9a9a-2e18-45e4-bb0f-5ccf5c5f47c3"
      },
      "source": [
        "l1 = [1,2,3]\r\n",
        "l2 = [4,5,6]\r\n",
        "l3 = [1,2,3]\r\n",
        "l4 = [1,4,3]\r\n",
        "x = set()\r\n",
        "x.add(tuple(l1))\r\n",
        "x.add(tuple(l2))\r\n",
        "x.add(tuple(l3))\r\n",
        "x.add(tuple(l4))\r\n",
        "x"
      ],
      "execution_count": 23,
      "outputs": [
        {
          "output_type": "execute_result",
          "data": {
            "text/plain": [
              "{(1, 2, 3), (1, 4, 3), (4, 5, 6)}"
            ]
          },
          "metadata": {
            "tags": []
          },
          "execution_count": 23
        }
      ]
    },
    {
      "cell_type": "markdown",
      "metadata": {
        "id": "Zrk8cWx_Au0L"
      },
      "source": [
        "***Dictionaires***"
      ]
    },
    {
      "cell_type": "code",
      "metadata": {
        "colab": {
          "base_uri": "https://localhost:8080/"
        },
        "id": "pGQiZaKkAo5F",
        "outputId": "795ee168-2ee9-4142-cfed-544b64c359fb"
      },
      "source": [
        "dic = {'key1' : 'value1', 'key2' : 'value2'}\r\n",
        "dic"
      ],
      "execution_count": 24,
      "outputs": [
        {
          "output_type": "execute_result",
          "data": {
            "text/plain": [
              "{'key1': 'value1', 'key2': 'value2'}"
            ]
          },
          "metadata": {
            "tags": []
          },
          "execution_count": 24
        }
      ]
    },
    {
      "cell_type": "code",
      "metadata": {
        "colab": {
          "base_uri": "https://localhost:8080/"
        },
        "id": "4WsNuqp2CF4M",
        "outputId": "e0b9089e-0eae-454b-d792-cf4d87c1f1f6"
      },
      "source": [
        "print(dic['key1'] + \" , \" + dic['key1'])"
      ],
      "execution_count": 25,
      "outputs": [
        {
          "output_type": "stream",
          "text": [
            "value1 , value1\n"
          ],
          "name": "stdout"
        }
      ]
    },
    {
      "cell_type": "code",
      "metadata": {
        "id": "31sNMqS8CPAF"
      },
      "source": [
        "dic = {'key1' : 123, 'key2' : [1,2,3,'abc'], 'key3' : {4,5,6}}"
      ],
      "execution_count": 26,
      "outputs": []
    },
    {
      "cell_type": "code",
      "metadata": {
        "colab": {
          "base_uri": "https://localhost:8080/"
        },
        "id": "iwrYrEoMCgjM",
        "outputId": "bf7942e2-eec3-49b1-cb3e-038323020812"
      },
      "source": [
        "dic"
      ],
      "execution_count": 27,
      "outputs": [
        {
          "output_type": "execute_result",
          "data": {
            "text/plain": [
              "{'key1': 123, 'key2': [1, 2, 3, 'abc'], 'key3': {4, 5, 6}}"
            ]
          },
          "metadata": {
            "tags": []
          },
          "execution_count": 27
        }
      ]
    },
    {
      "cell_type": "code",
      "metadata": {
        "colab": {
          "base_uri": "https://localhost:8080/"
        },
        "id": "pH-CKBvWChSn",
        "outputId": "690eb2d5-506a-43eb-c4f2-1444dade0c04"
      },
      "source": [
        "dic['key3']"
      ],
      "execution_count": 28,
      "outputs": [
        {
          "output_type": "execute_result",
          "data": {
            "text/plain": [
              "{4, 5, 6}"
            ]
          },
          "metadata": {
            "tags": []
          },
          "execution_count": 28
        }
      ]
    },
    {
      "cell_type": "code",
      "metadata": {
        "colab": {
          "base_uri": "https://localhost:8080/",
          "height": 35
        },
        "id": "0FiDs0gvCkBW",
        "outputId": "793193cd-5b86-45b5-e5f4-1cd5a74f927b"
      },
      "source": [
        "dic['key2'][3]"
      ],
      "execution_count": 31,
      "outputs": [
        {
          "output_type": "execute_result",
          "data": {
            "application/vnd.google.colaboratory.intrinsic+json": {
              "type": "string"
            },
            "text/plain": [
              "'abc'"
            ]
          },
          "metadata": {
            "tags": []
          },
          "execution_count": 31
        }
      ]
    },
    {
      "cell_type": "code",
      "metadata": {
        "colab": {
          "base_uri": "https://localhost:8080/"
        },
        "id": "eF1FCHQmCntD",
        "outputId": "72444054-05bc-4b23-b237-26cf3f8d9423"
      },
      "source": [
        "dic['key2'][::-1]"
      ],
      "execution_count": 32,
      "outputs": [
        {
          "output_type": "execute_result",
          "data": {
            "text/plain": [
              "['abc', 3, 2, 1]"
            ]
          },
          "metadata": {
            "tags": []
          },
          "execution_count": 32
        }
      ]
    },
    {
      "cell_type": "code",
      "metadata": {
        "colab": {
          "base_uri": "https://localhost:8080/",
          "height": 35
        },
        "id": "tUznoNkRC1hv",
        "outputId": "e1366248-a408-4086-90da-353ce1bdcafd"
      },
      "source": [
        "dic['key2'][3].upper()"
      ],
      "execution_count": 33,
      "outputs": [
        {
          "output_type": "execute_result",
          "data": {
            "application/vnd.google.colaboratory.intrinsic+json": {
              "type": "string"
            },
            "text/plain": [
              "'ABC'"
            ]
          },
          "metadata": {
            "tags": []
          },
          "execution_count": 33
        }
      ]
    },
    {
      "cell_type": "code",
      "metadata": {
        "colab": {
          "base_uri": "https://localhost:8080/"
        },
        "id": "FFKu2SM-C5Lt",
        "outputId": "ea327c3b-44b7-4599-df71-e2a2ad5d453d"
      },
      "source": [
        "dic['key1'] -= 100\r\n",
        "dic['key1']"
      ],
      "execution_count": 34,
      "outputs": [
        {
          "output_type": "execute_result",
          "data": {
            "text/plain": [
              "23"
            ]
          },
          "metadata": {
            "tags": []
          },
          "execution_count": 34
        }
      ]
    },
    {
      "cell_type": "code",
      "metadata": {
        "colab": {
          "base_uri": "https://localhost:8080/"
        },
        "id": "3880dRESDO6Q",
        "outputId": "aedaf273-427b-4357-9ef1-122c4a44783d"
      },
      "source": [
        "dic"
      ],
      "execution_count": 35,
      "outputs": [
        {
          "output_type": "execute_result",
          "data": {
            "text/plain": [
              "{'key1': 23, 'key2': [1, 2, 3, 'abc'], 'key3': {4, 5, 6}}"
            ]
          },
          "metadata": {
            "tags": []
          },
          "execution_count": 35
        }
      ]
    },
    {
      "cell_type": "code",
      "metadata": {
        "colab": {
          "base_uri": "https://localhost:8080/"
        },
        "id": "Deoc1ESnDSmN",
        "outputId": "ded899cf-db72-4dd8-8b87-b62f0030e442"
      },
      "source": [
        "dic = {}\r\n",
        "dic"
      ],
      "execution_count": 37,
      "outputs": [
        {
          "output_type": "execute_result",
          "data": {
            "text/plain": [
              "{}"
            ]
          },
          "metadata": {
            "tags": []
          },
          "execution_count": 37
        }
      ]
    },
    {
      "cell_type": "code",
      "metadata": {
        "colab": {
          "base_uri": "https://localhost:8080/"
        },
        "id": "BuGB86o1Dpoz",
        "outputId": "29949c7e-4446-43c8-9f07-be7f765db502"
      },
      "source": [
        "dic = {'key1' : {'nestedKey1' : {'nestedKey2' : 'value'}}}\r\n",
        "dic"
      ],
      "execution_count": 41,
      "outputs": [
        {
          "output_type": "execute_result",
          "data": {
            "text/plain": [
              "{'key1': {'nestedKey1': {'nestedKey2': 'value'}}}"
            ]
          },
          "metadata": {
            "tags": []
          },
          "execution_count": 41
        }
      ]
    },
    {
      "cell_type": "code",
      "metadata": {
        "colab": {
          "base_uri": "https://localhost:8080/",
          "height": 35
        },
        "id": "nMo9wgEZD_i4",
        "outputId": "9b7e3f2d-c9bf-4939-cae4-0318c719c3b0"
      },
      "source": [
        "dic['key1']['nestedKey1']['nestedKey2']"
      ],
      "execution_count": 42,
      "outputs": [
        {
          "output_type": "execute_result",
          "data": {
            "application/vnd.google.colaboratory.intrinsic+json": {
              "type": "string"
            },
            "text/plain": [
              "'value'"
            ]
          },
          "metadata": {
            "tags": []
          },
          "execution_count": 42
        }
      ]
    },
    {
      "cell_type": "code",
      "metadata": {
        "colab": {
          "base_uri": "https://localhost:8080/"
        },
        "id": "QBtsXREcEKAZ",
        "outputId": "5da28b42-04d8-4348-e6ce-f9f3bf31c7d3"
      },
      "source": [
        "dic['key1']"
      ],
      "execution_count": 43,
      "outputs": [
        {
          "output_type": "execute_result",
          "data": {
            "text/plain": [
              "{'nestedKey1': {'nestedKey2': 'value'}}"
            ]
          },
          "metadata": {
            "tags": []
          },
          "execution_count": 43
        }
      ]
    },
    {
      "cell_type": "code",
      "metadata": {
        "colab": {
          "base_uri": "https://localhost:8080/"
        },
        "id": "yTxmfazTEZP3",
        "outputId": "069b6ed3-deb1-4ec6-c977-a922c298e74f"
      },
      "source": [
        "dic['key1']['nestedKey1']"
      ],
      "execution_count": 44,
      "outputs": [
        {
          "output_type": "execute_result",
          "data": {
            "text/plain": [
              "{'nestedKey2': 'value'}"
            ]
          },
          "metadata": {
            "tags": []
          },
          "execution_count": 44
        }
      ]
    },
    {
      "cell_type": "code",
      "metadata": {
        "id": "MwRaDeJREbdP"
      },
      "source": [
        "dic = {'1' : 1 , '2' : 2 , '3' : 3}"
      ],
      "execution_count": 45,
      "outputs": []
    },
    {
      "cell_type": "code",
      "metadata": {
        "colab": {
          "base_uri": "https://localhost:8080/"
        },
        "id": "6-GG_gDdEjfI",
        "outputId": "2438a63c-15af-4567-eecf-b9a6293ab687"
      },
      "source": [
        "dic.keys()"
      ],
      "execution_count": 46,
      "outputs": [
        {
          "output_type": "execute_result",
          "data": {
            "text/plain": [
              "dict_keys(['1', '2', '3'])"
            ]
          },
          "metadata": {
            "tags": []
          },
          "execution_count": 46
        }
      ]
    },
    {
      "cell_type": "code",
      "metadata": {
        "colab": {
          "base_uri": "https://localhost:8080/"
        },
        "id": "Bro21AypElcl",
        "outputId": "a575f217-fa3d-492b-de54-283eb6a72d9e"
      },
      "source": [
        "dic.values()"
      ],
      "execution_count": 47,
      "outputs": [
        {
          "output_type": "execute_result",
          "data": {
            "text/plain": [
              "dict_values([1, 2, 3])"
            ]
          },
          "metadata": {
            "tags": []
          },
          "execution_count": 47
        }
      ]
    },
    {
      "cell_type": "code",
      "metadata": {
        "colab": {
          "base_uri": "https://localhost:8080/"
        },
        "id": "9YZI6_cGEoSH",
        "outputId": "58eb30c5-ffda-4ace-d9ea-376ebd117a1a"
      },
      "source": [
        "dic.items()"
      ],
      "execution_count": 48,
      "outputs": [
        {
          "output_type": "execute_result",
          "data": {
            "text/plain": [
              "dict_items([('1', 1), ('2', 2), ('3', 3)])"
            ]
          },
          "metadata": {
            "tags": []
          },
          "execution_count": 48
        }
      ]
    },
    {
      "cell_type": "code",
      "metadata": {
        "colab": {
          "base_uri": "https://localhost:8080/"
        },
        "id": "uBJY2qjiFiAj",
        "outputId": "d057af80-7c79-4d62-da76-ec5bb2776b12"
      },
      "source": [
        "{ x : x**2 for x in range(10)}"
      ],
      "execution_count": 53,
      "outputs": [
        {
          "output_type": "execute_result",
          "data": {
            "text/plain": [
              "{0: 0, 1: 1, 2: 4, 3: 9, 4: 16, 5: 25, 6: 36, 7: 49, 8: 64, 9: 81}"
            ]
          },
          "metadata": {
            "tags": []
          },
          "execution_count": 53
        }
      ]
    },
    {
      "cell_type": "markdown",
      "metadata": {
        "id": "25BYKmGVFbBB"
      },
      "source": [
        "***Functions***"
      ]
    },
    {
      "cell_type": "code",
      "metadata": {
        "colab": {
          "base_uri": "https://localhost:8080/"
        },
        "id": "ItUOoXZ6Eyxe",
        "outputId": "0b15a067-90db-4cde-a24a-47fe21146e95"
      },
      "source": [
        "def hello():\r\n",
        "  print('hello')\r\n",
        "\r\n",
        "hello()"
      ],
      "execution_count": 54,
      "outputs": [
        {
          "output_type": "stream",
          "text": [
            "hello\n"
          ],
          "name": "stdout"
        }
      ]
    },
    {
      "cell_type": "code",
      "metadata": {
        "colab": {
          "base_uri": "https://localhost:8080/"
        },
        "id": "QSDF1_pkGqXX",
        "outputId": "8809ef2f-4056-4f38-c338-fcf065d645b9"
      },
      "source": [
        "def hello(name):\r\n",
        "  print('Hello ' + name)\r\n",
        "\r\n",
        "hello('Abhishek')"
      ],
      "execution_count": 56,
      "outputs": [
        {
          "output_type": "stream",
          "text": [
            "Hello Abhishek\n"
          ],
          "name": "stdout"
        }
      ]
    },
    {
      "cell_type": "code",
      "metadata": {
        "colab": {
          "base_uri": "https://localhost:8080/"
        },
        "id": "2NN1fd4oGxC6",
        "outputId": "598f8f82-404a-45bf-ab32-b52ac243a9f8"
      },
      "source": [
        "def getName():\r\n",
        "  name = input('Enter your name : ')\r\n",
        "  hello(name)\r\n",
        "  print('How you doin?!')\r\n",
        "\r\n",
        "getName()"
      ],
      "execution_count": 59,
      "outputs": [
        {
          "output_type": "stream",
          "text": [
            "Enter your name : Abhishek\n",
            "Hello Abhishek\n",
            "How you doin?!\n"
          ],
          "name": "stdout"
        }
      ]
    },
    {
      "cell_type": "code",
      "metadata": {
        "colab": {
          "base_uri": "https://localhost:8080/"
        },
        "id": "GTju9jXfHYse",
        "outputId": "336e2f31-3f38-4156-a5bf-9b785f712f82"
      },
      "source": [
        "def add_num(num1, num2):\r\n",
        "  return num1 + num2\r\n",
        "\r\n",
        "result = add_num(4, 5)\r\n",
        "result"
      ],
      "execution_count": 60,
      "outputs": [
        {
          "output_type": "execute_result",
          "data": {
            "text/plain": [
              "9"
            ]
          },
          "metadata": {
            "tags": []
          },
          "execution_count": 60
        }
      ]
    },
    {
      "cell_type": "code",
      "metadata": {
        "colab": {
          "base_uri": "https://localhost:8080/",
          "height": 52
        },
        "id": "MI95MP5XIMZu",
        "outputId": "ee5a3801-fced-4950-9932-0a18ec4b58b4"
      },
      "source": [
        "result = add_num('four\\t', 'five')\r\n",
        "print(result)\r\n",
        "result.expandtabs()"
      ],
      "execution_count": 64,
      "outputs": [
        {
          "output_type": "stream",
          "text": [
            "four\tfive\n"
          ],
          "name": "stdout"
        },
        {
          "output_type": "execute_result",
          "data": {
            "application/vnd.google.colaboratory.intrinsic+json": {
              "type": "string"
            },
            "text/plain": [
              "'four    five'"
            ]
          },
          "metadata": {
            "tags": []
          },
          "execution_count": 64
        }
      ]
    },
    {
      "cell_type": "code",
      "metadata": {
        "colab": {
          "base_uri": "https://localhost:8080/"
        },
        "id": "B55pB7pAIUNC",
        "outputId": "83e44114-29bb-41d8-a483-002354a6b69d"
      },
      "source": [
        "def is_prime(num):\r\n",
        "    for n in range(2,num):\r\n",
        "        if num % n == 0:\r\n",
        "            print(str(num) + ' is not prime')\r\n",
        "            break\r\n",
        "    else: # If never mod zero, then prime\r\n",
        "        print(str(num) + ' is prime')\r\n",
        "\r\n",
        "is_prime(10)\r\n",
        "is_prime(17)"
      ],
      "execution_count": 67,
      "outputs": [
        {
          "output_type": "stream",
          "text": [
            "10 is not prime\n",
            "17 is prime\n"
          ],
          "name": "stdout"
        }
      ]
    },
    {
      "cell_type": "code",
      "metadata": {
        "id": "-cE_1nblJEa5"
      },
      "source": [
        "import math\r\n",
        "\r\n",
        "def is_prime(num):\r\n",
        "    if num % 2 == 0 and num > 2: \r\n",
        "        return False\r\n",
        "    for i in range(3, int(math.sqrt(num)) + 1, 2):\r\n",
        "        if num % i == 0:\r\n",
        "            return False\r\n",
        "    return True"
      ],
      "execution_count": 71,
      "outputs": []
    },
    {
      "cell_type": "code",
      "metadata": {
        "colab": {
          "base_uri": "https://localhost:8080/"
        },
        "id": "qFqN3cK1KF2O",
        "outputId": "8adb1b8a-f205-46e7-cb94-20b201e10e32"
      },
      "source": [
        "num = int(input('Enter a number : '))\r\n",
        "\r\n",
        "if is_prime(num):\r\n",
        "  print( str(num) + \" is prime\")\r\n",
        "else:\r\n",
        "  print( str(num) + \" is not prime\")"
      ],
      "execution_count": 77,
      "outputs": [
        {
          "output_type": "stream",
          "text": [
            "Enter a number : 113\n",
            "113 is prime\n"
          ],
          "name": "stdout"
        }
      ]
    },
    {
      "cell_type": "code",
      "metadata": {
        "colab": {
          "base_uri": "https://localhost:8080/"
        },
        "id": "76UNZVzBKF8L",
        "outputId": "1305cf28-59d6-4219-8128-3b74da24f681"
      },
      "source": [
        "print(list(range(3, int(math.sqrt(113)) + 1, 2)))"
      ],
      "execution_count": 78,
      "outputs": [
        {
          "output_type": "stream",
          "text": [
            "[3, 5, 7, 9]\n"
          ],
          "name": "stdout"
        }
      ]
    },
    {
      "cell_type": "markdown",
      "metadata": {
        "id": "k6ZybR8eLmf2"
      },
      "source": [
        "***Iterators and Generators***"
      ]
    },
    {
      "cell_type": "code",
      "metadata": {
        "id": "az0hm490KrnE"
      },
      "source": [
        "def gencubes(n):\r\n",
        "    for num in range(n):\r\n",
        "        yield num**3"
      ],
      "execution_count": 79,
      "outputs": []
    },
    {
      "cell_type": "code",
      "metadata": {
        "colab": {
          "base_uri": "https://localhost:8080/"
        },
        "id": "vftYmIDGMMyo",
        "outputId": "30cd301f-ac29-4fa3-ab1b-17e96bd14f92"
      },
      "source": [
        "for x in gencubes(8):\r\n",
        "    print(x)"
      ],
      "execution_count": 81,
      "outputs": [
        {
          "output_type": "stream",
          "text": [
            "0\n",
            "1\n",
            "8\n",
            "27\n",
            "64\n",
            "125\n",
            "216\n",
            "343\n"
          ],
          "name": "stdout"
        }
      ]
    },
    {
      "cell_type": "code",
      "metadata": {
        "id": "oo2i0LB6MPlz"
      },
      "source": [
        "def genfibonacci(n):\r\n",
        "    a = 1\r\n",
        "    b = 1\r\n",
        "    for i in range(n):\r\n",
        "        yield a\r\n",
        "        a,b = b,a+b"
      ],
      "execution_count": 85,
      "outputs": []
    },
    {
      "cell_type": "code",
      "metadata": {
        "colab": {
          "base_uri": "https://localhost:8080/"
        },
        "id": "pzWfT2-IMya7",
        "outputId": "5b083984-c2f8-4824-b2b7-c651b3ea7200"
      },
      "source": [
        "for num in genfibonacci(14):\r\n",
        "    print(num)"
      ],
      "execution_count": 86,
      "outputs": [
        {
          "output_type": "stream",
          "text": [
            "1\n",
            "1\n",
            "2\n",
            "3\n",
            "5\n",
            "8\n",
            "13\n",
            "21\n",
            "34\n",
            "55\n",
            "89\n",
            "144\n",
            "233\n",
            "377\n"
          ],
          "name": "stdout"
        }
      ]
    },
    {
      "cell_type": "code",
      "metadata": {
        "id": "LCeNyPXdMzIY"
      },
      "source": [
        "def simple_gen():\r\n",
        "    for x in range(3):\r\n",
        "        yield x"
      ],
      "execution_count": 87,
      "outputs": []
    },
    {
      "cell_type": "code",
      "metadata": {
        "id": "7eUOEVVvNqff"
      },
      "source": [
        "g = simple_gen()"
      ],
      "execution_count": 93,
      "outputs": []
    },
    {
      "cell_type": "code",
      "metadata": {
        "colab": {
          "base_uri": "https://localhost:8080/"
        },
        "id": "yM1gEl5RNwIq",
        "outputId": "f27a5256-033f-4da5-dd38-8caaa632c084"
      },
      "source": [
        "print(next(g))\r\n",
        "print(next(g))\r\n",
        "print(next(g))\r\n",
        "#print(next(g)) #Throws Error"
      ],
      "execution_count": 94,
      "outputs": [
        {
          "output_type": "stream",
          "text": [
            "0\n",
            "1\n",
            "2\n"
          ],
          "name": "stdout"
        }
      ]
    },
    {
      "cell_type": "code",
      "metadata": {
        "colab": {
          "base_uri": "https://localhost:8080/"
        },
        "id": "Xg82lWZLNxYx",
        "outputId": "9c56c64e-ee7c-4da2-eeda-7b66a6d03a78"
      },
      "source": [
        "s = 'hey there!! wassup??'\r\n",
        "\r\n",
        "for i in s:\r\n",
        "  print(i)"
      ],
      "execution_count": 95,
      "outputs": [
        {
          "output_type": "stream",
          "text": [
            "h\n",
            "e\n",
            "y\n",
            " \n",
            "t\n",
            "h\n",
            "e\n",
            "r\n",
            "e\n",
            "!\n",
            "!\n",
            " \n",
            "w\n",
            "a\n",
            "s\n",
            "s\n",
            "u\n",
            "p\n",
            "?\n",
            "?\n"
          ],
          "name": "stdout"
        }
      ]
    },
    {
      "cell_type": "code",
      "metadata": {
        "id": "Y6oUf12-OIlx"
      },
      "source": [
        "s_iter = iter(s)"
      ],
      "execution_count": 99,
      "outputs": []
    },
    {
      "cell_type": "code",
      "metadata": {
        "colab": {
          "base_uri": "https://localhost:8080/"
        },
        "id": "aS_3INEAOQQQ",
        "outputId": "a75f622a-8f13-4607-9a5f-d39401425a5c"
      },
      "source": [
        "print(next(s_iter))\r\n",
        "print(next(s_iter))\r\n",
        "print(next(s_iter))\r\n",
        "print(next(s_iter))\r\n",
        "print(next(s_iter))\r\n",
        "print(next(s_iter))"
      ],
      "execution_count": 100,
      "outputs": [
        {
          "output_type": "stream",
          "text": [
            "h\n",
            "e\n",
            "y\n",
            " \n",
            "t\n",
            "h\n"
          ],
          "name": "stdout"
        }
      ]
    },
    {
      "cell_type": "markdown",
      "metadata": {
        "id": "PCj-LSA_Oh7R"
      },
      "source": [
        "***map()***"
      ]
    },
    {
      "cell_type": "code",
      "metadata": {
        "id": "FuJ0nGD8OUAq"
      },
      "source": [
        "def fahrenheit(T):\r\n",
        "    return ((float(9)/5)*T + 32)\r\n",
        "def celsius(T):\r\n",
        "    return (float(5)/9)*(T-32)\r\n",
        "    \r\n",
        "temp = [0, 22.5, 40,100]"
      ],
      "execution_count": 101,
      "outputs": []
    },
    {
      "cell_type": "code",
      "metadata": {
        "colab": {
          "base_uri": "https://localhost:8080/"
        },
        "id": "9qi8KtMjPB9B",
        "outputId": "88596c12-cc1c-44a9-bbc7-5253a1982a02"
      },
      "source": [
        "F_temps = list(map(fahrenheit, temp))\r\n",
        "C_temps = list(map(celsius, F_temps))\r\n",
        "print(F_temps)\r\n",
        "print(C_temps)"
      ],
      "execution_count": 103,
      "outputs": [
        {
          "output_type": "stream",
          "text": [
            "[32.0, 72.5, 104.0, 212.0]\n",
            "[0.0, 22.5, 40.0, 100.0]\n"
          ],
          "name": "stdout"
        }
      ]
    },
    {
      "cell_type": "code",
      "metadata": {
        "colab": {
          "base_uri": "https://localhost:8080/"
        },
        "id": "iL0Pc7XhPVao",
        "outputId": "aa27ffdd-fbe5-4c02-d7bc-08873fd5ba3e"
      },
      "source": [
        "list(map(lambda x : float(5)/9 * ( x - 32), F_temps))"
      ],
      "execution_count": 104,
      "outputs": [
        {
          "output_type": "execute_result",
          "data": {
            "text/plain": [
              "[0.0, 22.5, 40.0, 100.0]"
            ]
          },
          "metadata": {
            "tags": []
          },
          "execution_count": 104
        }
      ]
    },
    {
      "cell_type": "code",
      "metadata": {
        "colab": {
          "base_uri": "https://localhost:8080/"
        },
        "id": "niS6dvT7QH9_",
        "outputId": "64d8bc1b-727b-406e-d45c-80cd2f3dc18c"
      },
      "source": [
        "a = [11,22,33,44]\r\n",
        "b = [55,66,77,88]\r\n",
        "\r\n",
        "list(map(lambda x, y : x+y, a, b))"
      ],
      "execution_count": 107,
      "outputs": [
        {
          "output_type": "execute_result",
          "data": {
            "text/plain": [
              "[66, 88, 110, 132]"
            ]
          },
          "metadata": {
            "tags": []
          },
          "execution_count": 107
        }
      ]
    },
    {
      "cell_type": "code",
      "metadata": {
        "colab": {
          "base_uri": "https://localhost:8080/"
        },
        "id": "3dkUEL3qQtob",
        "outputId": "665f94d9-27a4-4a5d-c5f8-f56ea427d184"
      },
      "source": [
        "c = [99,1010,1111,1212]\r\n",
        "\r\n",
        "list(map(lambda x, y, z : x+y+z, a, b, c))"
      ],
      "execution_count": 108,
      "outputs": [
        {
          "output_type": "execute_result",
          "data": {
            "text/plain": [
              "[165, 1098, 1221, 1344]"
            ]
          },
          "metadata": {
            "tags": []
          },
          "execution_count": 108
        }
      ]
    },
    {
      "cell_type": "code",
      "metadata": {
        "colab": {
          "base_uri": "https://localhost:8080/"
        },
        "id": "qo-qHbF3RL5w",
        "outputId": "a171b9c6-73f0-4b70-e91a-b673858c689e"
      },
      "source": [
        "a = [5,4,3,2,1]\r\n",
        "\r\n",
        "list(map(lambda x : x * 2, a))"
      ],
      "execution_count": 109,
      "outputs": [
        {
          "output_type": "execute_result",
          "data": {
            "text/plain": [
              "[10, 8, 6, 4, 2]"
            ]
          },
          "metadata": {
            "tags": []
          },
          "execution_count": 109
        }
      ]
    },
    {
      "cell_type": "markdown",
      "metadata": {
        "id": "q9HP4R5tRGwC"
      },
      "source": [
        "***reduce()***"
      ]
    },
    {
      "cell_type": "code",
      "metadata": {
        "colab": {
          "base_uri": "https://localhost:8080/"
        },
        "id": "ainj0giYQ-7R",
        "outputId": "ca38e6b0-10ec-4e06-c373-4fe45054ef85"
      },
      "source": [
        "from functools import reduce\r\n",
        "l =[47,11,123,42,13,99]\r\n",
        "reduce(lambda x,y: x+y,l)"
      ],
      "execution_count": 117,
      "outputs": [
        {
          "output_type": "execute_result",
          "data": {
            "text/plain": [
              "335"
            ]
          },
          "metadata": {
            "tags": []
          },
          "execution_count": 117
        }
      ]
    },
    {
      "cell_type": "code",
      "metadata": {
        "colab": {
          "base_uri": "https://localhost:8080/",
          "height": 223
        },
        "id": "DqE7rj2WSWTp",
        "outputId": "a17a04b1-cd15-46bd-8244-17b9c1de7fbe"
      },
      "source": [
        "from IPython.display import Image\r\n",
        "Image('http://www.python-course.eu/images/reduce_diagram.png')"
      ],
      "execution_count": 111,
      "outputs": [
        {
          "output_type": "execute_result",
          "data": {
            "image/png": "[encoded data removed]",
            "text/plain": [
              "<IPython.core.display.Image object>"
            ]
          },
          "metadata": {
            "tags": []
          },
          "execution_count": 111
        }
      ]
    },
    {
      "cell_type": "code",
      "metadata": {
        "colab": {
          "base_uri": "https://localhost:8080/",
          "height": 421
        },
        "id": "rx3uj5kuSYdU",
        "outputId": "e69fed84-a43c-41d8-dc1d-73a2132fc0b5"
      },
      "source": [
        "from IPython.display import Image\r\n",
        "Image('https://wallpaperaccess.com/full/2104548.jpg')"
      ],
      "execution_count": 112,
      "outputs": [
        {
          "output_type": "execute_result",
          "data": {
            "image/jpeg": "[encoded data removed]",
            "text/plain": [
              "<IPython.core.display.Image object>"
            ]
          },
          "metadata": {
            "tags": []
          },
          "execution_count": 112
        }
      ]
    },
    {
      "cell_type": "code",
      "metadata": {
        "colab": {
          "base_uri": "https://localhost:8080/"
        },
        "id": "7XCbe5NBShtl",
        "outputId": "2c6becc1-cd0c-4291-e298-1172d757705b"
      },
      "source": [
        "max_find = lambda a,b: a if (a > b) else b\r\n",
        "print(l)\r\n",
        "reduce(lambda a,b: a if (a > b) else b,l)"
      ],
      "execution_count": 118,
      "outputs": [
        {
          "output_type": "stream",
          "text": [
            "[47, 11, 123, 42, 13, 99]\n"
          ],
          "name": "stdout"
        },
        {
          "output_type": "execute_result",
          "data": {
            "text/plain": [
              "123"
            ]
          },
          "metadata": {
            "tags": []
          },
          "execution_count": 118
        }
      ]
    },
    {
      "cell_type": "markdown",
      "metadata": {
        "id": "9p77Tr4JTbJo"
      },
      "source": [
        "***filter()***"
      ]
    },
    {
      "cell_type": "code",
      "metadata": {
        "id": "4zu6h6G0S9IQ"
      },
      "source": [
        "def even_check(num):\r\n",
        "    if num%2 ==0:\r\n",
        "        return True"
      ],
      "execution_count": 119,
      "outputs": []
    },
    {
      "cell_type": "code",
      "metadata": {
        "colab": {
          "base_uri": "https://localhost:8080/"
        },
        "id": "b25ileAuT20p",
        "outputId": "5ceb4309-a37b-4782-e907-beaa402efefe"
      },
      "source": [
        "lst = range(20)\r\n",
        "print(list(lst))\r\n",
        "list(filter(even_check,lst))"
      ],
      "execution_count": 122,
      "outputs": [
        {
          "output_type": "stream",
          "text": [
            "[0, 1, 2, 3, 4, 5, 6, 7, 8, 9, 10, 11, 12, 13, 14, 15, 16, 17, 18, 19]\n"
          ],
          "name": "stdout"
        },
        {
          "output_type": "execute_result",
          "data": {
            "text/plain": [
              "[0, 2, 4, 6, 8, 10, 12, 14, 16, 18]"
            ]
          },
          "metadata": {
            "tags": []
          },
          "execution_count": 122
        }
      ]
    },
    {
      "cell_type": "code",
      "metadata": {
        "colab": {
          "base_uri": "https://localhost:8080/"
        },
        "id": "ZsFrTofaT5Lv",
        "outputId": "1d3593ab-fb4a-4744-9743-224f6b78fd97"
      },
      "source": [
        "list(filter(lambda x: x % 2 == 0, lst))"
      ],
      "execution_count": 124,
      "outputs": [
        {
          "output_type": "execute_result",
          "data": {
            "text/plain": [
              "[0, 2, 4, 6, 8, 10, 12, 14, 16, 18]"
            ]
          },
          "metadata": {
            "tags": []
          },
          "execution_count": 124
        }
      ]
    },
    {
      "cell_type": "code",
      "metadata": {
        "colab": {
          "base_uri": "https://localhost:8080/"
        },
        "id": "wXbpKNHpUGJP",
        "outputId": "e1a8c699-5b96-4f30-8ca8-28b0e2a109b8"
      },
      "source": [
        "list(filter(lambda x: even_check(x), lst))"
      ],
      "execution_count": 127,
      "outputs": [
        {
          "output_type": "execute_result",
          "data": {
            "text/plain": [
              "[0, 2, 4, 6, 8, 10, 12, 14, 16, 18]"
            ]
          },
          "metadata": {
            "tags": []
          },
          "execution_count": 127
        }
      ]
    },
    {
      "cell_type": "code",
      "metadata": {
        "id": "VqtvkE3gUQLp"
      },
      "source": [
        ""
      ],
      "execution_count": null,
      "outputs": []
    }
  ]
}
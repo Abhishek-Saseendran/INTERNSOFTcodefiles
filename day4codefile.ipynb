{
  "nbformat": 4,
  "nbformat_minor": 0,
  "metadata": {
    "colab": {
      "name": "session14.ipynb",
      "provenance": [],
      "collapsed_sections": [],
      "authorship_tag": "ABX9TyPGvwJrDtNKUTfgvoetbr+l",
      "include_colab_link": true
    },
    "kernelspec": {
      "name": "python3",
      "display_name": "Python 3"
    }
  },
  "cells": [
    {
      "cell_type": "markdown",
      "metadata": {
        "id": "view-in-github",
        "colab_type": "text"
      },
      "source": [
        "<a href=\"https://colab.research.google.com/github/Abhishek-Saseendran/INTERNSOFTcodefiles/blob/main/day4codefile.ipynb\" target=\"_parent\"><img src=\"https://colab.research.google.com/assets/colab-badge.svg\" alt=\"Open In Colab\"/></a>"
      ]
    },
    {
      "cell_type": "markdown",
      "metadata": {
        "id": "Q1NJl-FjlaCN"
      },
      "source": [
        "***Class***"
      ]
    },
    {
      "cell_type": "code",
      "metadata": {
        "colab": {
          "base_uri": "https://localhost:8080/"
        },
        "id": "DDSCO6HYh6Ef",
        "outputId": "d1679a3d-3ce8-419e-ddc7-cccdd9667017"
      },
      "source": [
        "class Person:\r\n",
        "    pass\r\n",
        "\r\n",
        "john_doe = Person()\r\n",
        "john_doe.name = \"Alec\"\r\n",
        "john_doe.surname = \"Baldwin\"\r\n",
        "john_doe.year_of_birth = 1958\r\n",
        "\r\n",
        "\r\n",
        "print(john_doe)\r\n",
        "print(\"%s %s was born in %d.\" %\r\n",
        "      (john_doe.name, john_doe.surname, john_doe.year_of_birth))"
      ],
      "execution_count": 2,
      "outputs": [
        {
          "output_type": "stream",
          "text": [
            "<__main__.Person object at 0x7f54ea376cf8>\n",
            "Alec Baldwin was born in 1958.\n"
          ],
          "name": "stdout"
        }
      ]
    },
    {
      "cell_type": "code",
      "metadata": {
        "id": "riBbTwbym6pX"
      },
      "source": [
        "class Person:\r\n",
        "    def __init__(self, name, surname, year_of_birth):\r\n",
        "        self.name = name\r\n",
        "        self.surname = surname\r\n",
        "        self.year_of_birth = year_of_birth"
      ],
      "execution_count": 3,
      "outputs": []
    },
    {
      "cell_type": "code",
      "metadata": {
        "colab": {
          "base_uri": "https://localhost:8080/"
        },
        "id": "SNZOb_fynLJ-",
        "outputId": "e3e6dc4f-af7c-49c2-cb6a-fac9d41a3462"
      },
      "source": [
        "alec = Person(\"Alec\", \"Baldwin\", 1958)\r\n",
        "print(alec)\r\n",
        "print(\"%s %s was born in %d\"% (alec.name, alec.surname, alec.year_of_birth))\r\n"
      ],
      "execution_count": 6,
      "outputs": [
        {
          "output_type": "stream",
          "text": [
            "<__main__.Person object at 0x7f54e9b0cef0>\n",
            "Alec Baldwin was born in 1958\n"
          ],
          "name": "stdout"
        }
      ]
    },
    {
      "cell_type": "code",
      "metadata": {
        "colab": {
          "base_uri": "https://localhost:8080/"
        },
        "id": "RF2Sv4PSnlnN",
        "outputId": "048c060e-23c2-4a5d-9b5d-eaa204e3d3d5"
      },
      "source": [
        "abhi = Person(\"Abhishek\", \"Saseendran\", 1999)\r\n",
        "print(abhi)\r\n",
        "print(\"%s %s was born in %d\"% (abhi.name, abhi.surname, abhi.year_of_birth))\r\n"
      ],
      "execution_count": 7,
      "outputs": [
        {
          "output_type": "stream",
          "text": [
            "<__main__.Person object at 0x7f54e9b0c828>\n",
            "Abhishek Saseendran was born in 1999\n"
          ],
          "name": "stdout"
        }
      ]
    },
    {
      "cell_type": "markdown",
      "metadata": {
        "id": "qdBHPAVOoBwa"
      },
      "source": [
        "***Methods***"
      ]
    },
    {
      "cell_type": "code",
      "metadata": {
        "colab": {
          "base_uri": "https://localhost:8080/"
        },
        "id": "bSTbkh9PnxQJ",
        "outputId": "fbc01f32-c751-4e97-8048-1d0492b9c4b7"
      },
      "source": [
        "class Person:\r\n",
        "    def __init__(self, name, surname, year_of_birth = 1998):\r\n",
        "        self.name = name\r\n",
        "        self.surname = surname\r\n",
        "        self.year_of_birth = year_of_birth\r\n",
        "\r\n",
        "    def age(self, current_year):\r\n",
        "        return (\"Age \" + str(current_year - self.year_of_birth))\r\n",
        "    \r\n",
        "    def __str__(self):\r\n",
        "        return \"%s %s was born in %d.\" % (self.name, self.surname, self.year_of_birth)\r\n",
        "    \r\n",
        "abhi = Person(\"Abhishek\", \"Saseendran\", 1999)\r\n",
        "print(abhi)\r\n",
        "print(abhi.age(2020))\r\n",
        "\r\n",
        "print(\"\\n\")\r\n",
        "\r\n",
        "hepsi = Person(\"Hepsi\", \"Uchiha\")\r\n",
        "print(hepsi)\r\n",
        "print(hepsi.age(2020))"
      ],
      "execution_count": 16,
      "outputs": [
        {
          "output_type": "stream",
          "text": [
            "Abhishek Saseendran was born in 1999.\n",
            "Age 21\n",
            "\n",
            "\n",
            "Hepsi Uchiha was born in 1998.\n",
            "Age 22\n"
          ],
          "name": "stdout"
        }
      ]
    },
    {
      "cell_type": "markdown",
      "metadata": {
        "id": "5xam8Yt6p8xr"
      },
      "source": [
        "***Inheritance***"
      ]
    },
    {
      "cell_type": "code",
      "metadata": {
        "colab": {
          "base_uri": "https://localhost:8080/"
        },
        "id": "ucIjsYswoPgU",
        "outputId": "030b25d2-c356-4ea5-f6a5-8e0774cf1e8f"
      },
      "source": [
        "class Student(Person):\r\n",
        "    def __init__(self, student_id, *args, **kwargs):\r\n",
        "        super(Student, self).__init__(*args, **kwargs)\r\n",
        "        self._student_id = student_id\r\n",
        "        \r\n",
        "charlie = Student(1, 'Charlie', 'Brown', 2006)\r\n",
        "print(charlie)\r\n",
        "print(type(charlie))\r\n",
        "print(isinstance(charlie, Student))\r\n",
        "print(isinstance(charlie, Person))\r\n",
        "print(isinstance(charlie, object))"
      ],
      "execution_count": 18,
      "outputs": [
        {
          "output_type": "stream",
          "text": [
            "Charlie Brown was born in 2006.\n",
            "<class '__main__.Student'>\n",
            "True\n",
            "True\n",
            "True\n"
          ],
          "name": "stdout"
        }
      ]
    },
    {
      "cell_type": "code",
      "metadata": {
        "colab": {
          "base_uri": "https://localhost:8080/"
        },
        "id": "yw0Tx9-YqF7t",
        "outputId": "dd56b1a3-0dfc-409f-e1b2-4a6369fdd5a1"
      },
      "source": [
        "class Student(Person):\r\n",
        "    def __init__(self, student_id, *args, **kwargs):\r\n",
        "        super(Student, self).__init__(*args, **kwargs)\r\n",
        "        self._student_id = student_id\r\n",
        "        \r\n",
        "    def __str__(self):\r\n",
        "        return super(Student, self).__str__() + \" And has ID: %d\" % self._student_id\r\n",
        "        \r\n",
        "charlie = Student(1, 'Charlie', 'Brown', 2006)\r\n",
        "print(charlie)"
      ],
      "execution_count": 19,
      "outputs": [
        {
          "output_type": "stream",
          "text": [
            "Charlie Brown was born in 2006. And has ID: 1\n"
          ],
          "name": "stdout"
        }
      ]
    },
    {
      "cell_type": "markdown",
      "metadata": {
        "id": "2HGsIofNrzQs"
      },
      "source": [
        "***Encapsulation***"
      ]
    },
    {
      "cell_type": "code",
      "metadata": {
        "id": "mFiJDwHJrqFW"
      },
      "source": [
        "class Car:\r\n",
        "  def __init__(self, name, speed):\r\n",
        "    self.name = name\r\n",
        "    self.speed = speed\r\n",
        "  \r\n",
        "  def setname(self, name):\r\n",
        "    self.name = name\r\n",
        "  \r\n",
        "  def setspeed(self, speed):\r\n",
        "    self.speed = speed\r\n",
        "\r\n",
        "  def getname(self):\r\n",
        "    return \"Name : \" + str(self.name)\r\n",
        "  \r\n",
        "  def getspeed(self):\r\n",
        "    return \"Speed : \" + str(self.speed) + \"kmph\""
      ],
      "execution_count": 33,
      "outputs": []
    },
    {
      "cell_type": "code",
      "metadata": {
        "colab": {
          "base_uri": "https://localhost:8080/"
        },
        "id": "cJWqqbycteAp",
        "outputId": "07fd7ee0-8c1e-4cdf-cfed-82212f016a05"
      },
      "source": [
        "car = Car('BMW', 128)\r\n",
        "print(car.getname())\r\n",
        "print(car.getspeed())"
      ],
      "execution_count": 34,
      "outputs": [
        {
          "output_type": "stream",
          "text": [
            "Name : BMW\n",
            "Speed : 128kmph\n"
          ],
          "name": "stdout"
        }
      ]
    },
    {
      "cell_type": "code",
      "metadata": {
        "colab": {
          "base_uri": "https://localhost:8080/"
        },
        "id": "HvaMdPu7tk0K",
        "outputId": "c3b753e9-afcc-4a7b-d5d4-7c71be1b4382"
      },
      "source": [
        "car.setname('Lamborgini')\r\n",
        "car.setspeed('140')\r\n",
        "print(car.getname())\r\n",
        "print(car.getspeed())"
      ],
      "execution_count": 35,
      "outputs": [
        {
          "output_type": "stream",
          "text": [
            "Name : Lamborgini\n",
            "Speed : 140kmph\n"
          ],
          "name": "stdout"
        }
      ]
    },
    {
      "cell_type": "markdown",
      "metadata": {
        "id": "BCOOr-pquYN0"
      },
      "source": [
        "***Polymorphism and DuckTyping***"
      ]
    },
    {
      "cell_type": "code",
      "metadata": {
        "colab": {
          "base_uri": "https://localhost:8080/"
        },
        "id": "R1xl5u-qt8yJ",
        "outputId": "eeca88a3-85aa-4e66-9952-690c7ff6c94a"
      },
      "source": [
        "def plusPolymorphism(a, b):\r\n",
        "    return a + b\r\n",
        "\r\n",
        "print(plusPolymorphism(1, 1))\r\n",
        "print(plusPolymorphism([\"a\", \"b\", \"c\"], [\"d\", \"e\"]))\r\n",
        "print(plusPolymorphism(\"abra\", \"cadabra\"))"
      ],
      "execution_count": 37,
      "outputs": [
        {
          "output_type": "stream",
          "text": [
            "2\n",
            "['a', 'b', 'c', 'd', 'e']\n",
            "abracadabra\n"
          ],
          "name": "stdout"
        }
      ]
    },
    {
      "cell_type": "markdown",
      "metadata": {
        "id": "ga2jxUezuquC"
      },
      "source": [
        "***Files***"
      ]
    },
    {
      "cell_type": "code",
      "metadata": {
        "colab": {
          "base_uri": "https://localhost:8080/"
        },
        "id": "506dsjJ4ugjF",
        "outputId": "6cbabac8-d59d-4f3d-d092-8d6703208c1b"
      },
      "source": [
        "%%writefile superman.txt\r\n",
        "Hello, this is a quick superman test file"
      ],
      "execution_count": 38,
      "outputs": [
        {
          "output_type": "stream",
          "text": [
            "Writing superman.txt\n"
          ],
          "name": "stdout"
        }
      ]
    },
    {
      "cell_type": "code",
      "metadata": {
        "id": "X_Cc8l-XvyNO"
      },
      "source": [
        "my_file = open('superman.txt')"
      ],
      "execution_count": 39,
      "outputs": []
    },
    {
      "cell_type": "code",
      "metadata": {
        "colab": {
          "base_uri": "https://localhost:8080/"
        },
        "id": "7gfrezp-vyKb",
        "outputId": "aeee1289-3e94-4df0-ea40-8f783907dc39"
      },
      "source": [
        "my_file"
      ],
      "execution_count": 40,
      "outputs": [
        {
          "output_type": "execute_result",
          "data": {
            "text/plain": [
              "<_io.TextIOWrapper name='superman.txt' mode='r' encoding='UTF-8'>"
            ]
          },
          "metadata": {
            "tags": []
          },
          "execution_count": 40
        }
      ]
    },
    {
      "cell_type": "code",
      "metadata": {
        "colab": {
          "base_uri": "https://localhost:8080/",
          "height": 35
        },
        "id": "u-gRgGxOvyIC",
        "outputId": "19b4d134-90b1-477a-edbc-ea3c197eb28b"
      },
      "source": [
        "my_file.read()"
      ],
      "execution_count": 41,
      "outputs": [
        {
          "output_type": "execute_result",
          "data": {
            "application/vnd.google.colaboratory.intrinsic+json": {
              "type": "string"
            },
            "text/plain": [
              "'Hello, this is a quick superman test file'"
            ]
          },
          "metadata": {
            "tags": []
          },
          "execution_count": 41
        }
      ]
    },
    {
      "cell_type": "code",
      "metadata": {
        "colab": {
          "base_uri": "https://localhost:8080/",
          "height": 35
        },
        "id": "wwBr7_aqvx_L",
        "outputId": "c341c965-03c0-4d03-f7f6-725f401e9914"
      },
      "source": [
        "my_file.read()"
      ],
      "execution_count": 42,
      "outputs": [
        {
          "output_type": "execute_result",
          "data": {
            "application/vnd.google.colaboratory.intrinsic+json": {
              "type": "string"
            },
            "text/plain": [
              "''"
            ]
          },
          "metadata": {
            "tags": []
          },
          "execution_count": 42
        }
      ]
    },
    {
      "cell_type": "code",
      "metadata": {
        "colab": {
          "base_uri": "https://localhost:8080/",
          "height": 35
        },
        "id": "jQLNeKsnwF6z",
        "outputId": "a4bb7e8e-b621-4d56-c75f-f0ae432073b3"
      },
      "source": [
        "my_file.read()"
      ],
      "execution_count": 43,
      "outputs": [
        {
          "output_type": "execute_result",
          "data": {
            "application/vnd.google.colaboratory.intrinsic+json": {
              "type": "string"
            },
            "text/plain": [
              "''"
            ]
          },
          "metadata": {
            "tags": []
          },
          "execution_count": 43
        }
      ]
    },
    {
      "cell_type": "code",
      "metadata": {
        "colab": {
          "base_uri": "https://localhost:8080/"
        },
        "id": "3Nb7hDKHwIxd",
        "outputId": "c287dda0-0b45-4758-d781-dbe4c29f21d2"
      },
      "source": [
        "my_file.seek(0)"
      ],
      "execution_count": 44,
      "outputs": [
        {
          "output_type": "execute_result",
          "data": {
            "text/plain": [
              "0"
            ]
          },
          "metadata": {
            "tags": []
          },
          "execution_count": 44
        }
      ]
    },
    {
      "cell_type": "code",
      "metadata": {
        "colab": {
          "base_uri": "https://localhost:8080/",
          "height": 35
        },
        "id": "AJ_1n1YcwSTl",
        "outputId": "fe9b0af2-724c-4f93-d2a2-3c23239b5d27"
      },
      "source": [
        "my_file.read()"
      ],
      "execution_count": 45,
      "outputs": [
        {
          "output_type": "execute_result",
          "data": {
            "application/vnd.google.colaboratory.intrinsic+json": {
              "type": "string"
            },
            "text/plain": [
              "'Hello, this is a quick superman test file'"
            ]
          },
          "metadata": {
            "tags": []
          },
          "execution_count": 45
        }
      ]
    },
    {
      "cell_type": "code",
      "metadata": {
        "colab": {
          "base_uri": "https://localhost:8080/",
          "height": 35
        },
        "id": "KHcoxf0RwXV8",
        "outputId": "56745278-088c-42ec-ef6b-910dc577c9a5"
      },
      "source": [
        "my_file.read()"
      ],
      "execution_count": 46,
      "outputs": [
        {
          "output_type": "execute_result",
          "data": {
            "application/vnd.google.colaboratory.intrinsic+json": {
              "type": "string"
            },
            "text/plain": [
              "''"
            ]
          },
          "metadata": {
            "tags": []
          },
          "execution_count": 46
        }
      ]
    },
    {
      "cell_type": "code",
      "metadata": {
        "colab": {
          "base_uri": "https://localhost:8080/"
        },
        "id": "Tw7MO2kwwZHl",
        "outputId": "8b7c51bb-a6bd-451d-f782-901a3780f517"
      },
      "source": [
        "my_file.seek(1)"
      ],
      "execution_count": 47,
      "outputs": [
        {
          "output_type": "execute_result",
          "data": {
            "text/plain": [
              "1"
            ]
          },
          "metadata": {
            "tags": []
          },
          "execution_count": 47
        }
      ]
    },
    {
      "cell_type": "code",
      "metadata": {
        "colab": {
          "base_uri": "https://localhost:8080/",
          "height": 35
        },
        "id": "moqdaQeTwa_J",
        "outputId": "46e57790-a0ac-46b3-b9e9-f274d3b3551a"
      },
      "source": [
        "my_file.read()"
      ],
      "execution_count": 48,
      "outputs": [
        {
          "output_type": "execute_result",
          "data": {
            "application/vnd.google.colaboratory.intrinsic+json": {
              "type": "string"
            },
            "text/plain": [
              "'ello, this is a quick superman test file'"
            ]
          },
          "metadata": {
            "tags": []
          },
          "execution_count": 48
        }
      ]
    },
    {
      "cell_type": "code",
      "metadata": {
        "colab": {
          "base_uri": "https://localhost:8080/"
        },
        "id": "8t28pc7Xwc-A",
        "outputId": "776f04cb-7659-45bf-922f-028a40436576"
      },
      "source": [
        "my_file.seek(0)"
      ],
      "execution_count": 49,
      "outputs": [
        {
          "output_type": "execute_result",
          "data": {
            "text/plain": [
              "0"
            ]
          },
          "metadata": {
            "tags": []
          },
          "execution_count": 49
        }
      ]
    },
    {
      "cell_type": "code",
      "metadata": {
        "colab": {
          "base_uri": "https://localhost:8080/"
        },
        "id": "4C6G7kFUwhQp",
        "outputId": "3b082ab4-f195-4b53-8903-9bda4e854f78"
      },
      "source": [
        "my_file.readlines()"
      ],
      "execution_count": 50,
      "outputs": [
        {
          "output_type": "execute_result",
          "data": {
            "text/plain": [
              "['Hello, this is a quick superman test file']"
            ]
          },
          "metadata": {
            "tags": []
          },
          "execution_count": 50
        }
      ]
    },
    {
      "cell_type": "code",
      "metadata": {
        "colab": {
          "base_uri": "https://localhost:8080/"
        },
        "id": "8_xXmif5wjsI",
        "outputId": "9e3bd20d-35e7-471b-86f2-880ad9bc98fe"
      },
      "source": [
        "my_file.readlines()"
      ],
      "execution_count": 51,
      "outputs": [
        {
          "output_type": "execute_result",
          "data": {
            "text/plain": [
              "[]"
            ]
          },
          "metadata": {
            "tags": []
          },
          "execution_count": 51
        }
      ]
    },
    {
      "cell_type": "code",
      "metadata": {
        "colab": {
          "base_uri": "https://localhost:8080/"
        },
        "id": "c2SR7JW_wkjz",
        "outputId": "ab0854de-5ba0-4c7b-b790-6a1fa907908a"
      },
      "source": [
        "my_file.seek(0)"
      ],
      "execution_count": 52,
      "outputs": [
        {
          "output_type": "execute_result",
          "data": {
            "text/plain": [
              "0"
            ]
          },
          "metadata": {
            "tags": []
          },
          "execution_count": 52
        }
      ]
    },
    {
      "cell_type": "code",
      "metadata": {
        "id": "e_CHYyLjwpJo"
      },
      "source": [
        "my_file = open('superman.txt','w+')"
      ],
      "execution_count": 59,
      "outputs": []
    },
    {
      "cell_type": "code",
      "metadata": {
        "colab": {
          "base_uri": "https://localhost:8080/"
        },
        "id": "X94WUJE9wu7z",
        "outputId": "19f41c51-cad8-4630-8c92-f54feefd7479"
      },
      "source": [
        "my_file.write('This is a new line')"
      ],
      "execution_count": 60,
      "outputs": [
        {
          "output_type": "execute_result",
          "data": {
            "text/plain": [
              "18"
            ]
          },
          "metadata": {
            "tags": []
          },
          "execution_count": 60
        }
      ]
    },
    {
      "cell_type": "code",
      "metadata": {
        "colab": {
          "base_uri": "https://localhost:8080/",
          "height": 35
        },
        "id": "PfBi8BuFw5dP",
        "outputId": "5cf3d887-bfdb-4796-c597-5eea32c44a1e"
      },
      "source": [
        "my_file.seek(0)\r\n",
        "my_file.read()"
      ],
      "execution_count": 61,
      "outputs": [
        {
          "output_type": "execute_result",
          "data": {
            "application/vnd.google.colaboratory.intrinsic+json": {
              "type": "string"
            },
            "text/plain": [
              "'This is a new line'"
            ]
          },
          "metadata": {
            "tags": []
          },
          "execution_count": 61
        }
      ]
    },
    {
      "cell_type": "code",
      "metadata": {
        "id": "KZbzcLUow90B"
      },
      "source": [
        "my_file = open('superman.txt','a+') #append"
      ],
      "execution_count": 62,
      "outputs": []
    },
    {
      "cell_type": "code",
      "metadata": {
        "colab": {
          "base_uri": "https://localhost:8080/"
        },
        "id": "b_AYnM1qxR69",
        "outputId": "f2d8dc8a-3608-44d6-bc1c-f715f3a82185"
      },
      "source": [
        "my_file.write('\\nThis is a appended line 1')"
      ],
      "execution_count": 63,
      "outputs": [
        {
          "output_type": "execute_result",
          "data": {
            "text/plain": [
              "26"
            ]
          },
          "metadata": {
            "tags": []
          },
          "execution_count": 63
        }
      ]
    },
    {
      "cell_type": "code",
      "metadata": {
        "colab": {
          "base_uri": "https://localhost:8080/"
        },
        "id": "yySd4ikdxWr0",
        "outputId": "4bd3a715-1552-47ad-db73-45ee8eacd484"
      },
      "source": [
        "my_file.seek(0)\r\n",
        "print(my_file.read())\r\n",
        "\r\n",
        "my_file.seek(0)\r\n",
        "print(my_file.readlines())"
      ],
      "execution_count": 70,
      "outputs": [
        {
          "output_type": "stream",
          "text": [
            "This is a new line\n",
            "This is a appended line 1\n",
            "['This is a new line\\n', 'This is a appended line 1']\n"
          ],
          "name": "stdout"
        }
      ]
    },
    {
      "cell_type": "code",
      "metadata": {
        "colab": {
          "base_uri": "https://localhost:8080/"
        },
        "id": "Ghzab1NrxiKV",
        "outputId": "67270458-d1aa-4aba-b281-fe9a86963220"
      },
      "source": [
        "%%writefile test.txt\r\n",
        "First Line\r\n",
        "Second Line\r\n",
        "Third Line\r\n",
        "Fourth Line"
      ],
      "execution_count": 71,
      "outputs": [
        {
          "output_type": "stream",
          "text": [
            "Writing test.txt\n"
          ],
          "name": "stdout"
        }
      ]
    },
    {
      "cell_type": "code",
      "metadata": {
        "colab": {
          "base_uri": "https://localhost:8080/"
        },
        "id": "AAisXbBmyrUu",
        "outputId": "1598d343-0f17-4154-a3fd-9df94800c1f8"
      },
      "source": [
        "my_file = open('test.txt')\r\n",
        "my_file.seek(0)\r\n",
        "print(my_file.read())"
      ],
      "execution_count": 74,
      "outputs": [
        {
          "output_type": "stream",
          "text": [
            "First Line\n",
            "Second Line\n",
            "Third Line\n",
            "Fourth Line\n"
          ],
          "name": "stdout"
        }
      ]
    },
    {
      "cell_type": "code",
      "metadata": {
        "colab": {
          "base_uri": "https://localhost:8080/"
        },
        "id": "L-yQQZTWyu69",
        "outputId": "7cd75e69-5636-4a74-f219-985363db1623"
      },
      "source": [
        "for line in open('test.txt'):\r\n",
        "    print(line + \",\")"
      ],
      "execution_count": 75,
      "outputs": [
        {
          "output_type": "stream",
          "text": [
            "First Line\n",
            ",\n",
            "Second Line\n",
            ",\n",
            "Third Line\n",
            ",\n",
            "Fourth Line,\n"
          ],
          "name": "stdout"
        }
      ]
    },
    {
      "cell_type": "markdown",
      "metadata": {
        "id": "3SmccH-nzN-u"
      },
      "source": [
        "***StringIO***"
      ]
    },
    {
      "cell_type": "code",
      "metadata": {
        "id": "KuQyUIQUzAtG"
      },
      "source": [
        "from io import StringIO"
      ],
      "execution_count": 76,
      "outputs": []
    },
    {
      "cell_type": "code",
      "metadata": {
        "id": "4B91sNrgzU9r"
      },
      "source": [
        "message = 'This is just a normal string.'"
      ],
      "execution_count": 77,
      "outputs": []
    },
    {
      "cell_type": "code",
      "metadata": {
        "id": "_IIOMivhzYWH"
      },
      "source": [
        "f = StringIO(message)"
      ],
      "execution_count": 78,
      "outputs": []
    },
    {
      "cell_type": "code",
      "metadata": {
        "colab": {
          "base_uri": "https://localhost:8080/",
          "height": 35
        },
        "id": "1SUO7-R1zav0",
        "outputId": "f6579121-338a-44ed-8915-45e60bfaf893"
      },
      "source": [
        "f.read()"
      ],
      "execution_count": 79,
      "outputs": [
        {
          "output_type": "execute_result",
          "data": {
            "application/vnd.google.colaboratory.intrinsic+json": {
              "type": "string"
            },
            "text/plain": [
              "'This is just a normal string.'"
            ]
          },
          "metadata": {
            "tags": []
          },
          "execution_count": 79
        }
      ]
    },
    {
      "cell_type": "code",
      "metadata": {
        "colab": {
          "base_uri": "https://localhost:8080/",
          "height": 35
        },
        "id": "YIkUovjNzc3j",
        "outputId": "6949a1a1-2a0b-4d10-b872-a11c5a426cf0"
      },
      "source": [
        "f.read()"
      ],
      "execution_count": 80,
      "outputs": [
        {
          "output_type": "execute_result",
          "data": {
            "application/vnd.google.colaboratory.intrinsic+json": {
              "type": "string"
            },
            "text/plain": [
              "''"
            ]
          },
          "metadata": {
            "tags": []
          },
          "execution_count": 80
        }
      ]
    },
    {
      "cell_type": "code",
      "metadata": {
        "colab": {
          "base_uri": "https://localhost:8080/"
        },
        "id": "l5N2z_6xzdk5",
        "outputId": "e98841b2-7703-4792-b23e-ed22597ff8f7"
      },
      "source": [
        "f.write(' Second line written to file like object')"
      ],
      "execution_count": 81,
      "outputs": [
        {
          "output_type": "execute_result",
          "data": {
            "text/plain": [
              "40"
            ]
          },
          "metadata": {
            "tags": []
          },
          "execution_count": 81
        }
      ]
    },
    {
      "cell_type": "code",
      "metadata": {
        "colab": {
          "base_uri": "https://localhost:8080/",
          "height": 35
        },
        "id": "5DVvhvCYzmS9",
        "outputId": "aec7120f-989b-48de-eb1c-3ff9e24b939c"
      },
      "source": [
        "f.seek(0)\r\n",
        "f.read()"
      ],
      "execution_count": 82,
      "outputs": [
        {
          "output_type": "execute_result",
          "data": {
            "application/vnd.google.colaboratory.intrinsic+json": {
              "type": "string"
            },
            "text/plain": [
              "'This is just a normal string. Second line written to file like object'"
            ]
          },
          "metadata": {
            "tags": []
          },
          "execution_count": 82
        }
      ]
    },
    {
      "cell_type": "code",
      "metadata": {
        "colab": {
          "base_uri": "https://localhost:8080/"
        },
        "id": "rWIlcGMLzo7X",
        "outputId": "90ce7639-513e-45f0-cb7b-1c1296163777"
      },
      "source": [
        "f.seek(0)\r\n",
        "f.readlines()"
      ],
      "execution_count": 83,
      "outputs": [
        {
          "output_type": "execute_result",
          "data": {
            "text/plain": [
              "['This is just a normal string. Second line written to file like object']"
            ]
          },
          "metadata": {
            "tags": []
          },
          "execution_count": 83
        }
      ]
    },
    {
      "cell_type": "code",
      "metadata": {
        "colab": {
          "base_uri": "https://localhost:8080/"
        },
        "id": "mrakQK01zwYl",
        "outputId": "fb5f8b92-0248-4204-f4d5-6a6da0323701"
      },
      "source": [
        "f.write(\"\\nNew Line\")"
      ],
      "execution_count": 84,
      "outputs": [
        {
          "output_type": "execute_result",
          "data": {
            "text/plain": [
              "9"
            ]
          },
          "metadata": {
            "tags": []
          },
          "execution_count": 84
        }
      ]
    },
    {
      "cell_type": "code",
      "metadata": {
        "colab": {
          "base_uri": "https://localhost:8080/"
        },
        "id": "rciwhuOIz2Av",
        "outputId": "4c2cf2dd-30f9-46e9-aefb-4ec23c3e2175"
      },
      "source": [
        "f.seek(0)\r\n",
        "print(f.read())"
      ],
      "execution_count": 85,
      "outputs": [
        {
          "output_type": "stream",
          "text": [
            "This is just a normal string. Second line written to file like object\n",
            "New Line\n"
          ],
          "name": "stdout"
        }
      ]
    },
    {
      "cell_type": "code",
      "metadata": {
        "colab": {
          "base_uri": "https://localhost:8080/"
        },
        "id": "ywBdKeBjz4qt",
        "outputId": "578f96ee-2f4c-4928-f378-f63067a01f41"
      },
      "source": [
        "f.seek(0)\r\n",
        "print(f.readlines())"
      ],
      "execution_count": 87,
      "outputs": [
        {
          "output_type": "stream",
          "text": [
            "['This is just a normal string. Second line written to file like object\\n', 'New Line']\n"
          ],
          "name": "stdout"
        }
      ]
    },
    {
      "cell_type": "code",
      "metadata": {
        "id": "TazXQKTO0A2l"
      },
      "source": [
        ""
      ],
      "execution_count": null,
      "outputs": []
    }
  ]
}